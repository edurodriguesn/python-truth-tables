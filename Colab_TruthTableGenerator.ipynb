{
  "nbformat": 4,
  "nbformat_minor": 0,
  "metadata": {
    "colab": {
      "provenance": [],
      "authorship_tag": "ABX9TyMgDMcsWbXgVKFfgVOQV02a",
      "include_colab_link": true
    },
    "kernelspec": {
      "name": "python3",
      "display_name": "Python 3"
    },
    "language_info": {
      "name": "python"
    }
  },
  "cells": [
    {
      "cell_type": "markdown",
      "metadata": {
        "id": "view-in-github",
        "colab_type": "text"
      },
      "source": [
        "<a href=\"https://colab.research.google.com/github/edurodriguesn/python-truth-tables/blob/main/TruthTableGenerator.ipynb\" target=\"_parent\"><img src=\"https://colab.research.google.com/assets/colab-badge.svg\" alt=\"Open In Colab\"/></a>"
      ]
    },
    {
      "cell_type": "code",
      "execution_count": null,
      "metadata": {
        "colab": {
          "base_uri": "https://localhost:8080/"
        },
        "id": "qOMms0Q2yMte",
        "outputId": "8d5b8c64-4867-45d9-e3c1-2d509990b548"
      },
      "outputs": [
        {
          "output_type": "stream",
          "name": "stdout",
          "text": [
            "Collecting truth-table-generator\n",
            "  Downloading truth_table_generator-1.1.2.tar.gz (14 kB)\n",
            "Requirement already satisfied: numpy in /usr/local/lib/python3.7/dist-packages (from truth-table-generator) (1.21.5)\n",
            "Requirement already satisfied: pandas in /usr/local/lib/python3.7/dist-packages (from truth-table-generator) (1.3.5)\n",
            "Collecting PTable\n",
            "  Downloading PTable-0.9.2.tar.gz (31 kB)\n",
            "Requirement already satisfied: pyparsing in /usr/local/lib/python3.7/dist-packages (from truth-table-generator) (3.0.7)\n",
            "Requirement already satisfied: tabulate in /usr/local/lib/python3.7/dist-packages (from truth-table-generator) (0.8.9)\n",
            "Requirement already satisfied: jinja2 in /usr/local/lib/python3.7/dist-packages (from truth-table-generator) (2.11.3)\n",
            "Requirement already satisfied: MarkupSafe>=0.23 in /usr/local/lib/python3.7/dist-packages (from jinja2->truth-table-generator) (2.0.1)\n",
            "Requirement already satisfied: python-dateutil>=2.7.3 in /usr/local/lib/python3.7/dist-packages (from pandas->truth-table-generator) (2.8.2)\n",
            "Requirement already satisfied: pytz>=2017.3 in /usr/local/lib/python3.7/dist-packages (from pandas->truth-table-generator) (2018.9)\n",
            "Requirement already satisfied: six>=1.5 in /usr/local/lib/python3.7/dist-packages (from python-dateutil>=2.7.3->pandas->truth-table-generator) (1.15.0)\n",
            "Building wheels for collected packages: truth-table-generator, PTable\n",
            "  Building wheel for truth-table-generator (setup.py) ... \u001b[?25l\u001b[?25hdone\n",
            "  Created wheel for truth-table-generator: filename=truth_table_generator-1.1.2-py3-none-any.whl size=13960 sha256=eb3973f2f7dcd2f75bdf9f4a9f6cdaf84458c5795644a5fe2940f2159663ccff\n",
            "  Stored in directory: /root/.cache/pip/wheels/9a/55/b5/77f5756832494eafda92c7a94c1365ac31088a18a3a97dd480\n",
            "  Building wheel for PTable (setup.py) ... \u001b[?25l\u001b[?25hdone\n",
            "  Created wheel for PTable: filename=PTable-0.9.2-py3-none-any.whl size=22925 sha256=840e48fa3bcff9be281147f0a9342c24244b6352fb76c9d4ab36dda0db432a42\n",
            "  Stored in directory: /root/.cache/pip/wheels/33/df/2f/674985b3f8a2de3f96357d1eadef5110f74fa91b3785e52a54\n",
            "Successfully built truth-table-generator PTable\n",
            "Installing collected packages: PTable, truth-table-generator\n",
            "Successfully installed PTable-0.9.2 truth-table-generator-1.1.2\n"
          ]
        }
      ],
      "source": [
        "!pip install truth-table-generator"
      ]
    },
    {
      "cell_type": "code",
      "source": [
        "import ttg"
      ],
      "metadata": {
        "id": "PP3QGrvnyVsJ"
      },
      "execution_count": null,
      "outputs": []
    },
    {
      "cell_type": "code",
      "source": [
        "tabela = ttg.Truths(['p','q'], ['p and q'])\n",
        "print(tabela)"
      ],
      "metadata": {
        "colab": {
          "base_uri": "https://localhost:8080/"
        },
        "id": "awlPe1oVzQld",
        "outputId": "674f7aca-9585-4f19-ff08-a300bd444857"
      },
      "execution_count": null,
      "outputs": [
        {
          "output_type": "stream",
          "name": "stdout",
          "text": [
            "+-----+-----+-----------+\n",
            "|  p  |  q  |  p and q  |\n",
            "|-----+-----+-----------|\n",
            "|  1  |  1  |     1     |\n",
            "|  1  |  0  |     0     |\n",
            "|  0  |  1  |     0     |\n",
            "|  0  |  0  |     0     |\n",
            "+-----+-----+-----------+\n"
          ]
        }
      ]
    },
    {
      "cell_type": "code",
      "source": [
        "tabela = ttg.Truths(['p','q'], ['p and q'], ints = False)\n",
        "print(tabela)"
      ],
      "metadata": {
        "colab": {
          "base_uri": "https://localhost:8080/"
        },
        "id": "HCBAruGDz6Nu",
        "outputId": "daf42f52-5f1a-4ca1-f44e-ab233b1f8070"
      },
      "execution_count": null,
      "outputs": [
        {
          "output_type": "stream",
          "name": "stdout",
          "text": [
            "+-------+-------+-----------+\n",
            "|   p   |   q   |  p and q  |\n",
            "|-------+-------+-----------|\n",
            "| True  | True  |   True    |\n",
            "| True  | False |   False   |\n",
            "| False | True  |   False   |\n",
            "| False | False |   False   |\n",
            "+-------+-------+-----------+\n"
          ]
        }
      ]
    },
    {
      "cell_type": "code",
      "source": [
        "tabela = ttg.Truths(['p'], ['not p'], ints = False)\n",
        "print (tabela)"
      ],
      "metadata": {
        "colab": {
          "base_uri": "https://localhost:8080/"
        },
        "id": "PUgWp0RT0a1x",
        "outputId": "ead68cb8-5374-4d83-bb4c-6c52b27488ae"
      },
      "execution_count": null,
      "outputs": [
        {
          "output_type": "stream",
          "name": "stdout",
          "text": [
            "+-------+---------+\n",
            "|   p   |  not p  |\n",
            "|-------+---------|\n",
            "| True  |  False  |\n",
            "| False |  True   |\n",
            "+-------+---------+\n"
          ]
        }
      ]
    },
    {
      "cell_type": "code",
      "source": [
        "tabela = ttg.Truths(['p','q'], ['p or q'], ints = False)\n",
        "print(tabela)"
      ],
      "metadata": {
        "colab": {
          "base_uri": "https://localhost:8080/"
        },
        "id": "KpDr4ZjU0urB",
        "outputId": "f57a5552-2c99-468e-fe76-c171ac668765"
      },
      "execution_count": null,
      "outputs": [
        {
          "output_type": "stream",
          "name": "stdout",
          "text": [
            "+-------+-------+----------+\n",
            "|   p   |   q   |  p or q  |\n",
            "|-------+-------+----------|\n",
            "| True  | True  |   True   |\n",
            "| True  | False |   True   |\n",
            "| False | True  |   True   |\n",
            "| False | False |  False   |\n",
            "+-------+-------+----------+\n"
          ]
        }
      ]
    },
    {
      "cell_type": "code",
      "source": [
        "tabela = ttg.Truths(['p','q'], ['p xor q'], ints = False)\n",
        "print(tabela)"
      ],
      "metadata": {
        "colab": {
          "base_uri": "https://localhost:8080/"
        },
        "id": "Sw9JU6uc2DD4",
        "outputId": "04dcb1e1-9ae3-4fc5-b7f0-817f5f80948e"
      },
      "execution_count": null,
      "outputs": [
        {
          "output_type": "stream",
          "name": "stdout",
          "text": [
            "+-------+-------+-----------+\n",
            "|   p   |   q   |  p xor q  |\n",
            "|-------+-------+-----------|\n",
            "| True  | True  |   False   |\n",
            "| True  | False |   True    |\n",
            "| False | True  |   True    |\n",
            "| False | False |   False   |\n",
            "+-------+-------+-----------+\n"
          ]
        }
      ]
    },
    {
      "cell_type": "code",
      "source": [
        "tabela = ttg.Truths(['p','q'], ['p implies q'], ints = False)\n",
        "print(tabela)"
      ],
      "metadata": {
        "colab": {
          "base_uri": "https://localhost:8080/"
        },
        "id": "b16s746K22x_",
        "outputId": "effb5f2c-0982-4c08-c08c-6a31107e265d"
      },
      "execution_count": null,
      "outputs": [
        {
          "output_type": "stream",
          "name": "stdout",
          "text": [
            "+-------+-------+---------------+\n",
            "|   p   |   q   |  p implies q  |\n",
            "|-------+-------+---------------|\n",
            "| True  | True  |     True      |\n",
            "| True  | False |     False     |\n",
            "| False | True  |     True      |\n",
            "| False | False |     True      |\n",
            "+-------+-------+---------------+\n"
          ]
        }
      ]
    },
    {
      "cell_type": "code",
      "source": [
        "tabela = ttg.Truths(['p','q'], ['p = q'], ints = False)\n",
        "print(tabela)"
      ],
      "metadata": {
        "colab": {
          "base_uri": "https://localhost:8080/"
        },
        "id": "MizjdZFu4UwZ",
        "outputId": "7ed8c031-1998-47e5-e588-eb4cf1be1bc8"
      },
      "execution_count": null,
      "outputs": [
        {
          "output_type": "stream",
          "name": "stdout",
          "text": [
            "+-------+-------+---------+\n",
            "|   p   |   q   |  p = q  |\n",
            "|-------+-------+---------|\n",
            "| True  | True  |  True   |\n",
            "| True  | False |  False  |\n",
            "| False | True  |  False  |\n",
            "| False | False |  True   |\n",
            "+-------+-------+---------+\n"
          ]
        }
      ]
    },
    {
      "cell_type": "code",
      "source": [
        "tabela = ttg.Truths(['p','q'], ['not(p or q)', '(not p) and (not q)', 'not(p or q) = ((not p) and (not q))'], ints = False)\n",
        "print(tabela)\n",
        "tabela.valuation()"
      ],
      "metadata": {
        "colab": {
          "base_uri": "https://localhost:8080/",
          "height": 182
        },
        "id": "UVt-BuAH5Coj",
        "outputId": "0f902532-f437-4c95-c493-383ea123541e"
      },
      "execution_count": null,
      "outputs": [
        {
          "output_type": "stream",
          "name": "stdout",
          "text": [
            "+-------+-------+---------------+-----------------------+---------------------------------------+\n",
            "|   p   |   q   |  not(p or q)  |  (not p) and (not q)  |  not(p or q) = ((not p) and (not q))  |\n",
            "|-------+-------+---------------+-----------------------+---------------------------------------|\n",
            "| True  | True  |     False     |         False         |                 True                  |\n",
            "| True  | False |     False     |         False         |                 True                  |\n",
            "| False | True  |     False     |         False         |                 True                  |\n",
            "| False | False |     True      |         True          |                 True                  |\n",
            "+-------+-------+---------------+-----------------------+---------------------------------------+\n"
          ]
        },
        {
          "output_type": "execute_result",
          "data": {
            "text/plain": [
              "'Tautology'"
            ],
            "application/vnd.google.colaboratory.intrinsic+json": {
              "type": "string"
            }
          },
          "metadata": {},
          "execution_count": 34
        }
      ]
    },
    {
      "cell_type": "code",
      "source": [
        "tabela = ttg.Truths(['p','q'], ['not(p and q)', '(not p) or (not q)', 'not(p and q) = ((not p) or (not q))'], ints = False)\n",
        "print(tabela)\n",
        "tabela.valuation()"
      ],
      "metadata": {
        "colab": {
          "base_uri": "https://localhost:8080/",
          "height": 182
        },
        "id": "BQFO-KYUC_Dx",
        "outputId": "5493996b-1709-49e6-83ec-42df5d95edf0"
      },
      "execution_count": null,
      "outputs": [
        {
          "output_type": "stream",
          "name": "stdout",
          "text": [
            "+-------+-------+----------------+----------------------+---------------------------------------+\n",
            "|   p   |   q   |  not(p and q)  |  (not p) or (not q)  |  not(p and q) = ((not p) or (not q))  |\n",
            "|-------+-------+----------------+----------------------+---------------------------------------|\n",
            "| True  | True  |     False      |        False         |                 True                  |\n",
            "| True  | False |      True      |         True         |                 True                  |\n",
            "| False | True  |      True      |         True         |                 True                  |\n",
            "| False | False |      True      |         True         |                 True                  |\n",
            "+-------+-------+----------------+----------------------+---------------------------------------+\n"
          ]
        },
        {
          "output_type": "execute_result",
          "data": {
            "text/plain": [
              "'Tautology'"
            ],
            "application/vnd.google.colaboratory.intrinsic+json": {
              "type": "string"
            }
          },
          "metadata": {},
          "execution_count": 37
        }
      ]
    },
    {
      "cell_type": "code",
      "source": [
        "tabela = ttg.Truths(['p','q'], ['p => q', '(not p) or q', '(p => q) = ((not p) or q)'], ints = False)\n",
        "print(tabela)\n",
        "tabela.valuation()"
      ],
      "metadata": {
        "colab": {
          "base_uri": "https://localhost:8080/",
          "height": 182
        },
        "id": "GHuiUeP5EaeG",
        "outputId": "44401d00-6713-44b2-9a43-17c40444bd1c"
      },
      "execution_count": null,
      "outputs": [
        {
          "output_type": "stream",
          "name": "stdout",
          "text": [
            "+-------+-------+----------+----------------+-----------------------------+\n",
            "|   p   |   q   |  p => q  |  (not p) or q  |  (p => q) = ((not p) or q)  |\n",
            "|-------+-------+----------+----------------+-----------------------------|\n",
            "| True  | True  |   True   |      True      |            True             |\n",
            "| True  | False |  False   |     False      |            True             |\n",
            "| False | True  |   True   |      True      |            True             |\n",
            "| False | False |   True   |      True      |            True             |\n",
            "+-------+-------+----------+----------------+-----------------------------+\n"
          ]
        },
        {
          "output_type": "execute_result",
          "data": {
            "text/plain": [
              "'Tautology'"
            ],
            "application/vnd.google.colaboratory.intrinsic+json": {
              "type": "string"
            }
          },
          "metadata": {},
          "execution_count": 42
        }
      ]
    },
    {
      "cell_type": "code",
      "source": [
        "ttg.Truths(['p','q'],['(p => q) = ((not p) or q)']).valuation()"
      ],
      "metadata": {
        "colab": {
          "base_uri": "https://localhost:8080/",
          "height": 35
        },
        "id": "TrEwGrDlFYZO",
        "outputId": "53c2cb5e-2f30-448f-a0fc-6160c9118b34"
      },
      "execution_count": null,
      "outputs": [
        {
          "output_type": "execute_result",
          "data": {
            "text/plain": [
              "'Tautology'"
            ],
            "application/vnd.google.colaboratory.intrinsic+json": {
              "type": "string"
            }
          },
          "metadata": {},
          "execution_count": 43
        }
      ]
    },
    {
      "cell_type": "code",
      "source": [
        "tabela = ttg.Truths(['p','q','r'], ['p or(q and r)', '(p or q) and (p or r)', '(p or(q and r)) = ((p or q) and (p or r))'], ints = False)\n",
        "print(tabela)\n",
        "tabela.valuation()"
      ],
      "metadata": {
        "colab": {
          "base_uri": "https://localhost:8080/",
          "height": 254
        },
        "id": "vG_3c804FgoF",
        "outputId": "0f6d8ffd-51b4-4e66-f1ea-20dd08c972b0"
      },
      "execution_count": null,
      "outputs": [
        {
          "output_type": "stream",
          "name": "stdout",
          "text": [
            "+-------+-------+-------+-----------------+-------------------------+---------------------------------------------+\n",
            "|   p   |   q   |   r   |  p or(q and r)  |  (p or q) and (p or r)  |  (p or(q and r)) = ((p or q) and (p or r))  |\n",
            "|-------+-------+-------+-----------------+-------------------------+---------------------------------------------|\n",
            "| True  | True  | True  |      True       |          True           |                    True                     |\n",
            "| True  | True  | False |      True       |          True           |                    True                     |\n",
            "| True  | False | True  |      True       |          True           |                    True                     |\n",
            "| True  | False | False |      True       |          True           |                    True                     |\n",
            "| False | True  | True  |      True       |          True           |                    True                     |\n",
            "| False | True  | False |      False      |          False          |                    True                     |\n",
            "| False | False | True  |      False      |          False          |                    True                     |\n",
            "| False | False | False |      False      |          False          |                    True                     |\n",
            "+-------+-------+-------+-----------------+-------------------------+---------------------------------------------+\n"
          ]
        },
        {
          "output_type": "execute_result",
          "data": {
            "text/plain": [
              "'Tautology'"
            ],
            "application/vnd.google.colaboratory.intrinsic+json": {
              "type": "string"
            }
          },
          "metadata": {},
          "execution_count": 44
        }
      ]
    },
    {
      "cell_type": "code",
      "source": [
        "tabela = ttg.Truths(['p'],['True', 'p and True','p=(p and True)'], ints=False)\n",
        "print(tabela)"
      ],
      "metadata": {
        "colab": {
          "base_uri": "https://localhost:8080/"
        },
        "id": "ZnZANh6rH3QS",
        "outputId": "24d6377b-94e7-4a4d-ad0a-2773b0e20b18"
      },
      "execution_count": null,
      "outputs": [
        {
          "output_type": "stream",
          "name": "stdout",
          "text": [
            "+-------+--------+--------------+------------------+\n",
            "|   p   |  True  |  p and True  |  p=(p and True)  |\n",
            "|-------+--------+--------------+------------------|\n",
            "| True  |  True  |     True     |       True       |\n",
            "| False |  True  |    False     |       True       |\n",
            "+-------+--------+--------------+------------------+\n"
          ]
        }
      ]
    },
    {
      "cell_type": "code",
      "source": [
        "tabela = ttg.Truths(['p'],['False', 'p or False','p=(p or False)'], ints=False)\n",
        "print(tabela)"
      ],
      "metadata": {
        "colab": {
          "base_uri": "https://localhost:8080/"
        },
        "id": "-oLY0npTIsQ1",
        "outputId": "f12947e2-f2d6-4e39-a4e1-117b32096770"
      },
      "execution_count": null,
      "outputs": [
        {
          "output_type": "stream",
          "name": "stdout",
          "text": [
            "+-------+---------+--------------+------------------+\n",
            "|   p   |  False  |  p or False  |  p=(p or False)  |\n",
            "|-------+---------+--------------+------------------|\n",
            "| True  |  False  |     True     |       True       |\n",
            "| False |  False  |    False     |       True       |\n",
            "+-------+---------+--------------+------------------+\n"
          ]
        }
      ]
    },
    {
      "cell_type": "code",
      "source": [
        "tabela = ttg.Truths(['p'],['True', 'p or True','True=(p or True)'], ints=False)\n",
        "print(tabela)"
      ],
      "metadata": {
        "colab": {
          "base_uri": "https://localhost:8080/"
        },
        "id": "uCEmJcCRKBUA",
        "outputId": "0f623c0e-31b4-4ed3-9707-6018f677be51"
      },
      "execution_count": null,
      "outputs": [
        {
          "output_type": "stream",
          "name": "stdout",
          "text": [
            "+-------+--------+-------------+--------------------+\n",
            "|   p   |  True  |  p or True  |  True=(p or True)  |\n",
            "|-------+--------+-------------+--------------------|\n",
            "| True  |  True  |    True     |        True        |\n",
            "| False |  True  |    True     |        True        |\n",
            "+-------+--------+-------------+--------------------+\n"
          ]
        }
      ]
    },
    {
      "cell_type": "code",
      "source": [
        "tabela = ttg.Truths(['p'],['False', 'p and False','False=(p and False)'], ints=False)\n",
        "print(tabela)"
      ],
      "metadata": {
        "colab": {
          "base_uri": "https://localhost:8080/"
        },
        "id": "Yr2xSduDKYuB",
        "outputId": "430ab721-36c2-4033-bce5-7105edf19e91"
      },
      "execution_count": null,
      "outputs": [
        {
          "output_type": "stream",
          "name": "stdout",
          "text": [
            "+-------+---------+---------------+-----------------------+\n",
            "|   p   |  False  |  p and False  |  False=(p and False)  |\n",
            "|-------+---------+---------------+-----------------------|\n",
            "| True  |  False  |     False     |         True          |\n",
            "| False |  False  |     False     |         True          |\n",
            "+-------+---------+---------------+-----------------------+\n"
          ]
        }
      ]
    },
    {
      "cell_type": "markdown",
      "source": [
        "import sympy as sp\n",
        "x, y = sp.symbols('x, y')\n",
        "troca(x,y)"
      ],
      "metadata": {
        "id": "j5qnIRrjYSLw"
      }
    },
    {
      "cell_type": "code",
      "source": [
        "def maximo(lista):\n",
        "    n = len(lista)\n",
        "    maior = lista[0]\n",
        "    print('máximo = ', maior)\n",
        "    for k in range(1,n):\n",
        "        if maior < lista[k]:\n",
        "            maior = lista[k]\n",
        "            print('máximo = ', maior)\n",
        "    return maior"
      ],
      "metadata": {
        "id": "BEQAHCVEAAzO"
      },
      "execution_count": null,
      "outputs": []
    },
    {
      "cell_type": "code",
      "source": [
        "lista = [4, 2, 7, 9, 5]\n",
        "maximo(lista)"
      ],
      "metadata": {
        "colab": {
          "base_uri": "https://localhost:8080/"
        },
        "id": "cIoUPE_TAiFH",
        "outputId": "4f31daa6-c7f0-4148-dcae-dc195b52145b"
      },
      "execution_count": null,
      "outputs": [
        {
          "output_type": "stream",
          "name": "stdout",
          "text": [
            "máximo =  4\n",
            "máximo =  7\n",
            "máximo =  9\n"
          ]
        },
        {
          "output_type": "execute_result",
          "data": {
            "text/plain": [
              "9"
            ]
          },
          "metadata": {},
          "execution_count": 2
        }
      ]
    },
    {
      "cell_type": "code",
      "source": [
        "lista = [3, 5, -1, 8, -9, 2, 11, 13, -19, 15, 1, 0, 10, 23, 22, 18, 19, -33, 6]\n",
        "maximo(lista)"
      ],
      "metadata": {
        "colab": {
          "base_uri": "https://localhost:8080/"
        },
        "id": "LSnN9gftBxYY",
        "outputId": "104e268e-f632-4109-b544-ed9cdb5a7dae"
      },
      "execution_count": null,
      "outputs": [
        {
          "output_type": "stream",
          "name": "stdout",
          "text": [
            "máximo =  3\n",
            "máximo =  5\n",
            "máximo =  8\n",
            "máximo =  11\n",
            "máximo =  13\n",
            "máximo =  15\n",
            "máximo =  23\n"
          ]
        },
        {
          "output_type": "execute_result",
          "data": {
            "text/plain": [
              "23"
            ]
          },
          "metadata": {},
          "execution_count": 3
        }
      ]
    },
    {
      "cell_type": "code",
      "source": [
        "def sequencial(lista, x):\n",
        "    n = len(lista)\n",
        "    for i in range(n):\n",
        "        if lista[i] == x:\n",
        "            return i\n",
        "\n",
        "    return -1"
      ],
      "metadata": {
        "id": "xM6fRI8HG6zK"
      },
      "execution_count": null,
      "outputs": []
    },
    {
      "cell_type": "code",
      "source": [
        "lista = [18, 22, 13, 5, 16, 7, 12, 10, 8, 3, 15, 6, 1, 19, 20, 2]\n",
        "x = 19\n",
        "\n",
        "i = sequencial(lista,x)\n",
        "\n",
        "if i == -1:\n",
        "    print('o elemento {} não está na lista'.format(x))\n",
        "else:\n",
        "    print('lista[{}] = {}'.format(i,lista[i]))"
      ],
      "metadata": {
        "colab": {
          "base_uri": "https://localhost:8080/"
        },
        "id": "TNRcs2W_HEQj",
        "outputId": "9733380a-5e94-425c-a453-e02eecce50e5"
      },
      "execution_count": null,
      "outputs": [
        {
          "output_type": "stream",
          "name": "stdout",
          "text": [
            "lista[13] = 19\n"
          ]
        }
      ]
    },
    {
      "cell_type": "markdown",
      "source": [
        "verificar um primeiro elemento, por exemplo a letra que começa para buscar, aí abre outra aba de codigo, efetuando uma busca mais profunda, então de inicio ele começa buscando apenas a letra inicial"
      ],
      "metadata": {
        "id": "RVBChszqJN8o"
      }
    },
    {
      "cell_type": "code",
      "source": [
        "import math\n",
        "\n",
        "def buscabin(lista,valor):\n",
        "    i = 0\n",
        "    j = len(lista)-1\n",
        "    while i < j:\n",
        "        m = math.floor((i+j)/2)\n",
        "        if valor > lista[m]:\n",
        "            i = m+1\n",
        "        else:\n",
        "            j = m\n",
        "    if valor == lista[i]:\n",
        "        return i\n",
        "    else:\n",
        "        return -1"
      ],
      "metadata": {
        "id": "03P12j7RQGuI"
      },
      "execution_count": null,
      "outputs": []
    },
    {
      "cell_type": "code",
      "source": [
        "lista = [1, 2, 3, 5, 6, 7, 8, 10, 12, 13, 15, 16, 18, 19, 20, 22]\n",
        "valor = 6\n",
        "\n",
        "i = buscabin(lista,valor)\n",
        "\n",
        "if (valor == lista[i]):\n",
        "    print(' índice = {}'.format(i+1))\n",
        "else:\n",
        "    print('{} não está na lista'.format(valor))"
      ],
      "metadata": {
        "colab": {
          "base_uri": "https://localhost:8080/"
        },
        "id": "ocR0VVIBQhBy",
        "outputId": "5bfa0ca1-5f33-49e5-9a3f-bcea11392a7e"
      },
      "execution_count": null,
      "outputs": [
        {
          "output_type": "stream",
          "name": "stdout",
          "text": [
            " índice = 5\n"
          ]
        }
      ]
    },
    {
      "cell_type": "code",
      "source": [
        "import math\n",
        "n = []\n",
        "sequencial = []\n",
        "binaria = []\n",
        "\n",
        "for k in range(2, 17):\n",
        "    w = 2**k\n",
        "    n.append(w)\n",
        "    sequencial.append(w)\n",
        "    binaria.append(int(2*math.log2(w) + 2))\n",
        "\n",
        "n"
      ],
      "metadata": {
        "colab": {
          "base_uri": "https://localhost:8080/"
        },
        "id": "B4mfxrq9U5S8",
        "outputId": "df78f03f-75b4-431d-b8ac-99faa65106fc"
      },
      "execution_count": null,
      "outputs": [
        {
          "output_type": "execute_result",
          "data": {
            "text/plain": [
              "[4, 8, 16, 32, 64, 128, 256, 512, 1024, 2048, 4096, 8192, 16384, 32768, 65536]"
            ]
          },
          "metadata": {},
          "execution_count": 10
        }
      ]
    },
    {
      "cell_type": "code",
      "source": [
        "import pandas as pd\n",
        "\n",
        "df = pd.DataFrame(list(zip(n, sequencial, binaria)), columns = ['n','sequencial', 'binaria'])\n",
        "print(df)"
      ],
      "metadata": {
        "colab": {
          "base_uri": "https://localhost:8080/"
        },
        "id": "fe4NMsxRVOc8",
        "outputId": "c611ef77-56fe-4f5f-e8a9-b7ed9501ad41"
      },
      "execution_count": null,
      "outputs": [
        {
          "output_type": "stream",
          "name": "stdout",
          "text": [
            "        n  sequencial  binaria\n",
            "0       4           4        6\n",
            "1       8           8        8\n",
            "2      16          16       10\n",
            "3      32          32       12\n",
            "4      64          64       14\n",
            "5     128         128       16\n",
            "6     256         256       18\n",
            "7     512         512       20\n",
            "8    1024        1024       22\n",
            "9    2048        2048       24\n",
            "10   4096        4096       26\n",
            "11   8192        8192       28\n",
            "12  16384       16384       30\n",
            "13  32768       32768       32\n",
            "14  65536       65536       34\n"
          ]
        }
      ]
    },
    {
      "cell_type": "code",
      "source": [
        "def bubble(lista):\n",
        "    n = len(lista)\n",
        "    for i in range(n-1):\n",
        "        for j in range(0,n-1-i):\n",
        "            if lista[j] > lista[j+1]:\n",
        "                lista[j], lista[j+1] = lista[j+1], lista[j]\n",
        "        print(lista)\n",
        "    return lista"
      ],
      "metadata": {
        "id": "o-FH-Y4efxL6"
      },
      "execution_count": null,
      "outputs": []
    },
    {
      "cell_type": "code",
      "source": [
        "## Solução\n",
        "lista = [3, 2, 4, 1, 5]\n",
        "\n",
        "bubble(lista)"
      ],
      "metadata": {
        "colab": {
          "base_uri": "https://localhost:8080/"
        },
        "id": "ua51QOoegSWu",
        "outputId": "bfe4c329-ba5c-441c-c894-5a0da56bc70d"
      },
      "execution_count": null,
      "outputs": [
        {
          "output_type": "stream",
          "name": "stdout",
          "text": [
            "[2, 3, 1, 4, 5]\n",
            "[2, 1, 3, 4, 5]\n",
            "[1, 2, 3, 4, 5]\n",
            "[1, 2, 3, 4, 5]\n"
          ]
        },
        {
          "output_type": "execute_result",
          "data": {
            "text/plain": [
              "[1, 2, 3, 4, 5]"
            ]
          },
          "metadata": {},
          "execution_count": 13
        }
      ]
    },
    {
      "cell_type": "code",
      "source": [
        "def insertion(lista):\n",
        "    n = len(lista)\n",
        "    for i in range(1, n):\n",
        "        j = i-1\n",
        "        val = lista[i]\n",
        "        while val < lista[j] and j>=0:\n",
        "            lista[j], lista[j+1] = lista[j+1], lista[j]\n",
        "            j=j-1\n",
        "        print(lista)\n",
        "    return lista"
      ],
      "metadata": {
        "id": "t_xaMvJOnQef"
      },
      "execution_count": null,
      "outputs": []
    },
    {
      "cell_type": "code",
      "source": [
        "import sympy as sp\n",
        "F = {'a': 0.9, 'b': 0.3, 'd': 0.7}\n",
        "Fc = {}\n",
        "for key in F:\n",
        " Fc[key] = 1.- F[key]\n",
        "R = {'a': 0.5, 'c': 0.4, 'd': 0.6}\n",
        "Rc = {}\n",
        "for key in R:\n",
        " Rc[key] = 1.- R[key]"
      ],
      "metadata": {
        "id": "vnX9avbJojsH"
      },
      "execution_count": null,
      "outputs": []
    },
    {
      "cell_type": "code",
      "source": [
        "F_e_R = {}\n",
        "for key in Fc:\n",
        " if key in Rc:\n",
        "  if Fc[key] < Rc[key]:\n",
        "    F_e_R[key] = Fc[key]\n",
        "  else:\n",
        "    F_e_R[key]= Rc[key]\n"
      ],
      "metadata": {
        "id": "wKt7wbsuwqbF"
      },
      "execution_count": null,
      "outputs": []
    },
    {
      "cell_type": "code",
      "source": [
        "print('F = ', F, '\\n')\n",
        "print('Fc = ', Fc)"
      ],
      "metadata": {
        "colab": {
          "base_uri": "https://localhost:8080/"
        },
        "id": "l_eq224YY2h3",
        "outputId": "c105697d-11aa-4054-be2f-b42da7c850ce"
      },
      "execution_count": null,
      "outputs": [
        {
          "output_type": "stream",
          "name": "stdout",
          "text": [
            "F =  {'a': 0.9, 'b': 0.3, 'd': 0.7} \n",
            "\n",
            "Fc =  {'a': 0.09999999999999998, 'b': 0.7, 'd': 0.30000000000000004}\n"
          ]
        }
      ]
    },
    {
      "cell_type": "code",
      "source": [
        "print('F = ', Fc, '\\n')\n",
        "print('R = ', Rc, '\\n')\n",
        "print('F interseção R: ')\n",
        "sp.pprint(F_e_R)\n"
      ],
      "metadata": {
        "colab": {
          "base_uri": "https://localhost:8080/"
        },
        "id": "YFZQnCCsXZou",
        "outputId": "a116f14b-b447-4d43-d0e7-debd1f8dd17b"
      },
      "execution_count": null,
      "outputs": [
        {
          "output_type": "stream",
          "name": "stdout",
          "text": [
            "F =  {'a': 0.09999999999999998, 'b': 0.7, 'd': 0.30000000000000004} \n",
            "\n",
            "R =  {'a': 0.5, 'c': 0.6, 'd': 0.4} \n",
            "\n",
            "F interseção R: \n",
            "{a: 0.09999999999999998, d: 0.30000000000000004}\n"
          ]
        }
      ]
    }
  ]
}
